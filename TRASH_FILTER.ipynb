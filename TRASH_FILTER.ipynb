{
  "nbformat": 4,
  "nbformat_minor": 0,
  "metadata": {
    "colab": {
      "name": "TRASH FILTER.ipynb",
      "provenance": [],
      "collapsed_sections": []
    },
    "kernelspec": {
      "name": "python3",
      "display_name": "Python 3"
    }
  },
  "cells": [
    {
      "cell_type": "code",
      "metadata": {
        "cellView": "form",
        "id": "KXf_cLT5b8tU"
      },
      "source": [
        "#@title 1. MOUNT DRIVE\r\n",
        "from google.colab import drive\r\n",
        "drive.mount('/content/drive')"
      ],
      "execution_count": null,
      "outputs": []
    },
    {
      "cell_type": "code",
      "metadata": {
        "cellView": "form",
        "id": "vGLxJJG3cZnW"
      },
      "source": [
        "#@title 2. CHECKING TRASH\n",
        "FOLDER_CHECK = \"\" #@param {type:\"string\"}\n",
        "NAME = \"\" #@param {type:\"string\"}\n",
        "\n",
        "\n",
        "def check_folder(path, name):\n",
        "  global trash, files, folders\n",
        "  for f in os.listdir(path):\n",
        "    fpath = os.path.join(path, f)\n",
        "    if not os.path.isfile(fpath) and not f.startswith(name):\n",
        "      check_folder(fpath, name)\n",
        "    elif f.startswith(name):\n",
        "      trash_path = os.path.join(path, f)\n",
        "      print(trash_path)\n",
        "      if os.path.isfile(trash_path):\n",
        "        files.append(trash_path)\n",
        "      else:\n",
        "        folders.append(trash_path)\n",
        "\n",
        "\n",
        "import os\n",
        "files = []\n",
        "folders = []\n",
        "\n",
        "if NAME == '' or FOLDER_CHECK == '':\n",
        "  print('Invalid input')\n",
        "else:\n",
        "  print('----- CHECKING -----')\n",
        "  print()\n",
        "  check_folder(FOLDER_CHECK, NAME)\n",
        "  print()\n",
        "  print(\"There're\", len(files), \"files and\", len(folders), \"folders to delete\")\n",
        "      \n"
      ],
      "execution_count": null,
      "outputs": []
    },
    {
      "cell_type": "code",
      "metadata": {
        "cellView": "form",
        "id": "Ij1yRIQYoUDE"
      },
      "source": [
        "#@title 3. DELETE\r\n",
        "for f in files:\r\n",
        "  print('Deleting', f)\r\n",
        "  !rm $f\r\n",
        "for f in folders:\r\n",
        "  print('Deleting', f)\r\n",
        "  !rm -r $f\r\n",
        "\r\n",
        "print()\r\n",
        "print('----- COMPLETED -----')"
      ],
      "execution_count": null,
      "outputs": []
    }
  ]
}